{
 "cells": [
  {
   "cell_type": "markdown",
   "metadata": {},
   "source": [
    "### Imports"
   ]
  },
  {
   "cell_type": "code",
   "execution_count": 129,
   "metadata": {},
   "outputs": [],
   "source": [
    "import numpy as np\n",
    "from math import pi\n",
    "import scipy\n",
    "import matplotlib.pyplot as plt"
   ]
  },
  {
   "cell_type": "markdown",
   "metadata": {},
   "source": [
    "# Dirac Notation"
   ]
  },
  {
   "cell_type": "markdown",
   "metadata": {},
   "source": [
    "### Functions for printing out the states"
   ]
  },
  {
   "cell_type": "code",
   "execution_count": 5,
   "metadata": {},
   "outputs": [],
   "source": [
    "def PrettyPrintBinary(myState):\n",
    "    retString = '( '\n",
    "    for i in myState:\n",
    "        retString += ( str(i[0]) + ' |' + i[1] + '> + ' )\n",
    "    retString = retString[:-3]\n",
    "    retString += ')'\n",
    "    return retString"
   ]
  },
  {
   "cell_type": "code",
   "execution_count": 6,
   "metadata": {},
   "outputs": [],
   "source": [
    "def PrettyPrintInteger(myState):\n",
    "    retString = '( '\n",
    "    for i in myState:\n",
    "        retString += ( str(i[0]) + ' |' + str(int(i[1],2)) + '> + ' )\n",
    "    retString = retString[:-3]\n",
    "    retString += ')'\n",
    "    return retString"
   ]
  },
  {
   "cell_type": "code",
   "execution_count": 7,
   "metadata": {},
   "outputs": [],
   "source": [
    "def StateToVec(myState):\n",
    "    max = 0\n",
    "    for i in myState:\n",
    "        if int(i[1],2) > max:\n",
    "            max = int(i[1],2)\n",
    "    vec = np.zeros(max+1, dtype = 'complex128')\n",
    "\n",
    "    for i in myState:\n",
    "        vec[int(i[1],2)] = i[0]\n",
    "    return vec"
   ]
  },
  {
   "cell_type": "code",
   "execution_count": 8,
   "metadata": {},
   "outputs": [],
   "source": [
    "def VecToState(myStateVec):\n",
    "    retState = []\n",
    "    iter = 0\n",
    "    for i in myStateVec:\n",
    "        if i != 0:\n",
    "            retState.append((i,\"{0:b}\".format(iter)))\n",
    "        iter += 1\n",
    "    return retState"
   ]
  },
  {
   "cell_type": "markdown",
   "metadata": {},
   "source": [
    "### Tests for Printing"
   ]
  },
  {
   "cell_type": "code",
   "execution_count": 9,
   "metadata": {},
   "outputs": [
    {
     "name": "stdout",
     "output_type": "stream",
     "text": [
      "( 0.31622776601683794j |101> + 0.7071067811865476 |000> + -0.6324555320336759 |010>)\n",
      "( 0.31622776601683794j |5> + 0.7071067811865476 |0> + -0.6324555320336759 |2>) \n",
      "\n",
      "[ 0.70710678+0.j          0.        +0.j         -0.63245553+0.j\n",
      "  0.        +0.j          0.        +0.j          0.        +0.31622777j]\n",
      "[((0.7071067811865476+0j), '0'), ((-0.6324555320336759+0j), '10'), (0.31622776601683794j, '101')]\n"
     ]
    }
   ],
   "source": [
    "myState2 = [\n",
    "    (np.sqrt(.1)*1.j, '101'),\n",
    "    (np.sqrt(.5), '000'),\n",
    "    (-np.sqrt(.4), '010')\n",
    "]\n",
    "\n",
    "print(PrettyPrintBinary(myState2))\n",
    "print(PrettyPrintInteger(myState2), '\\n')\n",
    "\n",
    "print(StateToVec(myState2))\n",
    "print(VecToState(StateToVec(myState2)))"
   ]
  },
  {
   "cell_type": "markdown",
   "metadata": {},
   "source": [
    "# Quantum Simulator I"
   ]
  },
  {
   "cell_type": "markdown",
   "metadata": {},
   "source": [
    "## Simulator 1.a"
   ]
  },
  {
   "cell_type": "code",
   "execution_count": 110,
   "metadata": {},
   "outputs": [
    {
     "name": "stdout",
     "output_type": "stream",
     "text": [
      "Identity: \n",
      " [[1 0]\n",
      " [0 1]]\n",
      "Hadamard: \n",
      " [[ 0.70710678  0.70710678]\n",
      " [ 0.70710678 -0.70710678]]\n",
      "CNOT: \n",
      " [[1 0 0 0]\n",
      " [0 1 0 0]\n",
      " [0 0 0 1]\n",
      " [0 0 1 0]]\n",
      "CNOT Flip: \n",
      " [[1 0 0 0]\n",
      " [0 0 0 1]\n",
      " [0 0 1 0]\n",
      " [0 1 0 0]]\n"
     ]
    }
   ],
   "source": [
    "# Basic matrices\n",
    "basicIdentity = np.array([[1, 0],[0, 1]])\n",
    "basicHadamard = (1/np.sqrt(2))*np.array([[1, 1],[1, -1]])\n",
    "basicCNOT = np.array([[1,0,0,0],[0,1,0,0],[0,0,0,1],[0,0,1,0]])\n",
    "basicCNOTflip = np.array([[1,0,0,0],[0,0,0,1],[0,0,1,0],[0,1,0,0]])\n",
    "print(\"Identity: \\n\", basicIdentity)\n",
    "print(\"Hadamard: \\n\", basicHadamard)\n",
    "print(\"CNOT: \\n\", basicCNOT)\n",
    "print(\"CNOT Flip: \\n\", basicCNOTflip)"
   ]
  },
  {
   "cell_type": "code",
   "execution_count": 111,
   "metadata": {},
   "outputs": [],
   "source": [
    "# Apples Hadamart to wire i out of k wire\n",
    "def HadamardArray(i, k):\n",
    "    myMatrix = np.array([1])\n",
    "    for x in range(k):\n",
    "        # If on wire 'i', apply Hadamard, else apply Identity\n",
    "        if(x == i):\n",
    "            myMatrix = np.kron(basicHadamard, myMatrix)\n",
    "        else:\n",
    "            myMatrix = np.kron(basicIdentity, myMatrix)\n",
    "\n",
    "    return myMatrix\n",
    "# print(HadamardArray(0,2)@ np.array([1,0,0,0]))\n",
    "# print(HadamardArray(0,1) @ np.array([1,0]))"
   ]
  },
  {
   "cell_type": "code",
   "execution_count": 112,
   "metadata": {},
   "outputs": [],
   "source": [
    "def PhaseArray(i, k, phi):\n",
    "    myMatrix = np.array([1])\n",
    "    basicPhase = np.array([[1, 0],[0, np.exp(complex(0,phi))]])\n",
    "    for x in range(k):\n",
    "        # If on wire 'i', apply Phase Gate, else apply Identity\n",
    "        if(x == (i)):\n",
    "            myMatrix = np.kron(basicPhase, myMatrix)\n",
    "        else:\n",
    "            myMatrix = np.kron(basicIdentity, myMatrix)\n",
    "    return myMatrix\n",
    "# print(PhaseArray(0,2,5.10940500719))\n",
    "# print(PhaseArray(0,2,5.10940500719)@ np.array([1,1,0,0]))\n",
    "# print(PhaseArray(0,1,5.10940500719) @ np.array([1,1]))"
   ]
  },
  {
   "cell_type": "code",
   "execution_count": 113,
   "metadata": {},
   "outputs": [],
   "source": [
    "def CNOTArray(controlWire, otherWire, totalWire):\n",
    "    myMatrix = np.array([1])\n",
    "    x = 0\n",
    "    while(x < totalWire):\n",
    "        # If on wire 'i', apply Hadamard, else apply Identity\n",
    "        if(x == controlWire):\n",
    "            myMatrix = np.kron(basicCNOT, myMatrix)\n",
    "            x += 1\n",
    "        elif(x == otherWire): \n",
    "            myMatrix = np.kron(basicCNOTflip, myMatrix)\n",
    "            x += 1\n",
    "        else:\n",
    "            myMatrix = np.kron(basicIdentity, myMatrix)\n",
    "        x += 1\n",
    "    #print(myMatrix)\n",
    "    return myMatrix\n",
    "#print(CNOTArray(1,0,2))\n",
    "#print(CNOTArray(0,1,3)@ np.array([0,1,0,1,0,0,0,0]))\n",
    "#print(CNOTArray(0,1,2) @ np.array([0,1,0,1]))"
   ]
  },
  {
   "cell_type": "code",
   "execution_count": 114,
   "metadata": {},
   "outputs": [],
   "source": [
    "def ReadInput(fileName):\n",
    "        myInput_lines=open(fileName).readlines()\n",
    "        myInput=[]\n",
    "        numberOfWires=int(myInput_lines[0])\n",
    "        for line in myInput_lines[1:]:\n",
    "            myInput.append(line.split())\n",
    "        return (numberOfWires,myInput)"
   ]
  },
  {
   "cell_type": "code",
   "execution_count": 115,
   "metadata": {},
   "outputs": [],
   "source": [
    "def readInitialState(filename):\n",
    "    inputState = np.empty((0,0), dtype = 'complex128')\n",
    "    lines = open(filename).readlines()\n",
    "    for line in lines[0:]:\n",
    "        num = line.split()\n",
    "        inputState = np.append(inputState, complex(float(num[0]), float(num[1])))\n",
    "    return inputState\n",
    "\n",
    "# print(readInitialState(\"myInputState.txt\"))"
   ]
  },
  {
   "cell_type": "code",
   "execution_count": 116,
   "metadata": {},
   "outputs": [
    {
     "name": "stdout",
     "output_type": "stream",
     "text": [
      "5\n",
      "myInputState.txt\n"
     ]
    }
   ],
   "source": [
    "numberOfWires, myInput = ReadInput(\"input.circuit\")\n",
    "print(numberOfWires)\n",
    "print(myInput[0][2])"
   ]
  },
  {
   "cell_type": "code",
   "execution_count": 117,
   "metadata": {},
   "outputs": [],
   "source": [
    "def quantumCircuit1a(fileName):\n",
    "    numberOfWires, myInput=ReadInput(fileName)\n",
    "    \n",
    "    # Generate circuit input\n",
    "    if(myInput[0][0] == \"INITSTATE\"):\n",
    "        inputState = readInitialState(myInput[0][2])\n",
    "        ind_0 = 1\n",
    "    else:\n",
    "        # basis\n",
    "        inputState = np.zeros(2**numberOfWires, dtype = \"complex128\")\n",
    "        inputState[0] = 1\n",
    "        ind_0 = 0        \n",
    "\n",
    "    # Apply gates to input state\n",
    "    U = np.identity(2**numberOfWires)\n",
    "    for i in range(ind_0, len(myInput)):\n",
    "        gate = myInput[i][0]\n",
    "        if(gate == 'H'):\n",
    "            wire = int(myInput[i][1])\n",
    "            U = HadamardArray(wire, numberOfWires) @ U\n",
    "        elif(gate == 'P'):\n",
    "            wire = int(myInput[i][1])\n",
    "            phase = float(myInput[i][2])\n",
    "            U = PhaseArray(wire, numberOfWires, phase) @ U\n",
    "        elif(gate == 'CNOT'):\n",
    "            cwire = int(myInput[i][1])\n",
    "            wire = int(myInput[i][2])\n",
    "            U = CNOTArray(cwire, wire, numberOfWires) @ U\n",
    "        elif(gate == \"MEASURE\"):\n",
    "            plt.hist(measureVec(U @ inputState))\n",
    "            plt.show()\n",
    "    # return input state into the Unitary matrix\n",
    "    return U @ inputState"
   ]
  },
  {
   "cell_type": "code",
   "execution_count": 118,
   "metadata": {},
   "outputs": [],
   "source": [
    "def measureVec(vector):\n",
    "    return vector.real**2 + vector.imag**2"
   ]
  },
  {
   "cell_type": "markdown",
   "metadata": {},
   "source": [
    "### Testing for Simulator 1.a"
   ]
  },
  {
   "cell_type": "code",
   "execution_count": 119,
   "metadata": {},
   "outputs": [
    {
     "name": "stdout",
     "output_type": "stream",
     "text": [
      "( (-0.014083322515851574+0.12361700437061857j) |0> + (0.10546650549095332+0.1511171265453809j) |1> + (-0.05320044270457744+0.21204952271866961j) |10> + (-0.03370685828137296+0.08313930949974177j) |11> + (-0.09789043986915626+0.00805147153006074j) |100> + (-0.10085285276296671+0.10484982364806525j) |101> + (0.033155808009031985-0.16613309200699633j) |110> + (0.022943819668955492-0.06562256598397503j) |111> + (0.07171228578151856-0.07704898190619977j) |1000> + (0.004174273783519236-0.155847916499092j) |1001> + (0.042148073942739485+0.15129692883364346j) |1010> + (0.008503597159646107+0.06388604907345147j) |1011> + (0.10282101832647528-0.1129873596582965j) |1100> + (0.0035214585533858054-0.22624793894946446j) |1101> + (0.20994091476876048-0.13239931902529495j) |1110> + (0.09286216596754185-0.041836678180953615j) |1111> + (0.15301130453905779+0.03530510774272079j) |10000> + (0.2045611865522816-0.1106907774541148j) |10001> + (0.2823951977679195+0.23148990870054992j) |10010> + (0.1015630868958084+0.11016938209155538j) |10011> + (-0.02875075941676884+0.05194403255778654j) |10100> + (0.018953326637279288+0.08586965288047398j) |10101> + (-0.12977046646669893-0.23567494875348563j) |10110> + (-0.03930145752973303-0.10317001428746639j) |10111> + (0.006439416913025265-0.1643672085691363j) |11000> + (-0.1538817662410294-0.18889534358218124j) |11001> + (0.08678810791072263+0.025301281295118296j) |11010> + (0.033826378704352275+0.015229023610254735j) |11011> + (0.08085582403584042-0.18768999427289484j) |11100> + (-0.09406663867662371-0.2877110895552389j) |11101> + (0.16323447125234694-0.15696062176356304j) |11110> + (0.07528184365715794-0.054480216625809555j) |11111>)\n"
     ]
    }
   ],
   "source": [
    "result = quantumCircuit1a(\"rand.circuit\")\n",
    "print(PrettyPrintBinary(VecToState(result)))\n",
    "#print(PrettyPrintBinary(VecToState(measureVec(result))))\n",
    "#print(sum(measureVec(result)))"
   ]
  },
  {
   "cell_type": "code",
   "execution_count": 120,
   "metadata": {},
   "outputs": [
    {
     "data": {
      "image/png": "[encoded data removed]",
      "text/plain": [
       "<Figure size 432x288 with 1 Axes>"
      ]
     },
     "metadata": {
      "needs_background": "light"
     },
     "output_type": "display_data"
    },
    {
     "name": "stdout",
     "output_type": "stream",
     "text": [
      "( 0.015479503742651021 |0> + 0.03395956971580595 |1> + 0.04779528718917861 |10> + 0.008048297079294412 |11> + 0.009647364411576275 |100> + 0.021164783429459023 |101> + 0.028699511864536897 |110> + 0.004832740027322706 |111> + 0.011079197544792089 |1000> + 0.024305997638727726 |1001> + 0.024667220811575206 |1010> + 0.00415373843086899 |1011> + 0.02333830525224661 |1100> + 0.05120053054922381 |1101> + 0.06160476737230578 |1110> + 0.010373689509399967 |1111> + 0.02465890994946941 |10000> + 0.05409772725707372 |10001> + 0.1333346255525713 |10010> + 0.022452353370240652 |10011> + 0.0035247886854053103 |10100> + 0.007732825876432493 |10101> + 0.0723830554369427 |10110> + 0.012188656412037428 |10111> + 0.027058045342989712 |11000> + 0.059361048808489116 |11001> + 0.008172330509897938 |11010> + 0.0013761470563719534 |11011> + 0.04176519823067409 |11100> + 0.09162620356498116 |11101> + 0.051282129389437575 |11110> + 0.008635449988015907 |11111>)\n"
     ]
    }
   ],
   "source": [
    "# measure.circuit\n",
    "result = quantumCircuit1a(\"measure.circuit\")\n",
    "print(PrettyPrintBinary(VecToState(measureVec(result))))"
   ]
  },
  {
   "cell_type": "code",
   "execution_count": 121,
   "metadata": {},
   "outputs": [
    {
     "name": "stdout",
     "output_type": "stream",
     "text": [
      "( 0.21216656404084494 |0> + 0.08132777675681205 |1> + 0.02200647235913622 |10> + 0.012615736658059262 |11> + 0.06493330392230691 |100> + 0.052124164397821846 |101> + 0.012544542559966707 |110> + 0.0029494512139599583 |111> + 0.05649802075492141 |1000> + 0.012438846261735357 |1001> + 0.042716561265688784 |1010> + 0.004707942820690924 |1011> + 0.008829060112935992 |1100> + 0.0022153912945678937 |1101> + 0.05031667580293355 |1110> + 0.0017873018290342037 |1111> + 0.004326766692975962 |10000> + 0.02623220090152875 |10001> + 0.01004464950822865 |10010> + 0.014078821666942779 |10011> + 0.033820058549507925 |10100> + 0.003335413433282539 |10101> + 0.047466546648073475 |10110> + 0.007364913193365203 |10111> + 0.021796012557434317 |11000> + 0.029625127236285055 |11001> + 0.040580117203822555 |11010> + 0.06390645331551946 |11011> + 0.009290187341343074 |11100> + 0.023741516837560855 |11101> + 0.01892945512076801 |11110> + 0.005283947741228972 |11111>)\n",
      "0.9999999999992838\n"
     ]
    }
   ],
   "source": [
    "# input.circuit\n",
    "result = quantumCircuit1a(\"input.circuit\")\n",
    "print(PrettyPrintBinary(VecToState(measureVec(result)))) \n",
    "print(sum(measureVec(result)))"
   ]
  },
  {
   "cell_type": "markdown",
   "metadata": {},
   "source": [
    "## Simulator 1.b"
   ]
  },
  {
   "cell_type": "code",
   "execution_count": 122,
   "metadata": {},
   "outputs": [],
   "source": [
    "\n",
    "def quantumCircuit1b(fileName):\n",
    "    numberOfWires, myInput=ReadInput(fileName)\n",
    "    \n",
    "    # Generate circuit input\n",
    "    if(myInput[0][0] == \"INITSTATE\"):\n",
    "        inputState = readInitialState(myInput[0][2])\n",
    "        ind_0 = 1\n",
    "    else:\n",
    "        # basis\n",
    "        inputState = np.zeros(2**numberOfWires, dtype = \"complex128\")\n",
    "        inputState[0] = 1\n",
    "        ind_0 = 0        \n",
    "\n",
    "    # Apply gates to input state\n",
    "    U = inputState\n",
    "    for i in range(ind_0, len(myInput)):\n",
    "        gate = myInput[i][0]\n",
    "        if(gate == 'H'):\n",
    "            wire = int(myInput[i][1])\n",
    "            U = HadamardArray(wire, numberOfWires) @ U\n",
    "        elif(gate == 'P'):\n",
    "            wire = int(myInput[i][1])\n",
    "            phase = float(myInput[i][2])\n",
    "            U = PhaseArray(wire, numberOfWires, phase) @ U\n",
    "        elif(gate == 'CNOT'):\n",
    "            cwire = int(myInput[i][1])\n",
    "            wire = int(myInput[i][2])\n",
    "            U = CNOTArray(cwire, wire, numberOfWires) @ U\n",
    "        elif(gate == \"MEASURE\"):\n",
    "            plt.hist(measureVec(U))\n",
    "            plt.show()\n",
    "    # return input state into the Unitary matrix\n",
    "    return U"
   ]
  },
  {
   "cell_type": "code",
   "execution_count": 123,
   "metadata": {},
   "outputs": [
    {
     "data": {
      "image/png": "[encoded data removed]",
      "text/plain": [
       "<Figure size 432x288 with 1 Axes>"
      ]
     },
     "metadata": {
      "needs_background": "light"
     },
     "output_type": "display_data"
    },
    {
     "name": "stdout",
     "output_type": "stream",
     "text": [
      "( 0.015479503742651037 |0> + 0.03395956971580595 |1> + 0.047795287189178616 |10> + 0.008048297079294425 |11> + 0.009647364411576277 |100> + 0.021164783429459044 |101> + 0.028699511864536918 |110> + 0.004832740027322715 |111> + 0.011079197544792104 |1000> + 0.024305997638727737 |1001> + 0.024667220811575206 |1010> + 0.004153738430868992 |1011> + 0.02333830525224661 |1100> + 0.05120053054922381 |1101> + 0.061604767372305816 |1110> + 0.010373689509399979 |1111> + 0.024658909949469423 |10000> + 0.054097727257073736 |10001> + 0.13333462555257125 |10010> + 0.022452353370240652 |10011> + 0.0035247886854053063 |10100> + 0.00773282587643249 |10101> + 0.07238305543694269 |10110> + 0.01218865641203743 |10111> + 0.02705804534298973 |11000> + 0.05936104880848915 |11001> + 0.008172330509897942 |11010> + 0.0013761470563719545 |11011> + 0.04176519823067408 |11100> + 0.09162620356498119 |11101> + 0.0512821293894376 |11110> + 0.008635449988015905 |11111>)\n"
     ]
    }
   ],
   "source": [
    "# measure.circuit\n",
    "result = quantumCircuit1b(\"measure.circuit\")\n",
    "print(PrettyPrintBinary(VecToState(measureVec(result))))"
   ]
  },
  {
   "cell_type": "code",
   "execution_count": 124,
   "metadata": {},
   "outputs": [
    {
     "name": "stdout",
     "output_type": "stream",
     "text": [
      "6.661338147750939e-16\n",
      "-2.220446049250313e-16\n"
     ]
    }
   ],
   "source": [
    "result = quantumCircuit1a(\"input.circuit\")\n",
    "result2 = quantumCircuit1b(\"input.circuit\")\n",
    "print(sum(measureVec(result)) - sum(measureVec(result2)))\n",
    "\n",
    "result = quantumCircuit1a(\"rand.circuit\")\n",
    "result2 = quantumCircuit1b(\"rand.circuit\")\n",
    "print(sum(measureVec(result)) - sum(measureVec(result2)))\n",
    "\n",
    "# difference small enough to be explained by floating point innacurracies "
   ]
  },
  {
   "cell_type": "markdown",
   "metadata": {},
   "source": [
    "## Simulator 1.c"
   ]
  },
  {
   "cell_type": "code",
   "execution_count": 130,
   "metadata": {},
   "outputs": [
    {
     "name": "stdout",
     "output_type": "stream",
     "text": [
      "Identity: \n",
      " [[1 0]\n",
      " [0 1]]\n",
      "Hadamard: \n",
      " [[ 0.70710678  0.70710678]\n",
      " [ 0.70710678 -0.70710678]]\n",
      "CNOT: \n",
      " [[1 0 0 0]\n",
      " [0 1 0 0]\n",
      " [0 0 0 1]\n",
      " [0 0 1 0]]\n",
      "CNOT Flip: \n",
      " [[1 0 0 0]\n",
      " [0 0 0 1]\n",
      " [0 0 1 0]\n",
      " [0 1 0 0]]\n"
     ]
    }
   ],
   "source": [
    "#import scipy.sparse as sci\n",
    "# Basic matrices\n",
    "basicIdentity_csr = scipy.sparse.csr_matrix([[1, 0],[0, 1]])\n",
    "basicHadamard_csr = (1/np.sqrt(2))*scipy.sparse.csr_matrix([[1, 1],[1, -1]])\n",
    "basicCNOT_csr = scipy.sparse.csr_matrix([[1,0,0,0],[0,1,0,0],[0,0,0,1],[0,0,1,0]])\n",
    "basicCNOTflip_csr = scipy.sparse.csr_matrix([[1,0,0,0],[0,0,0,1],[0,0,1,0],[0,1,0,0]])\n",
    "print(\"Identity: \\n\", basicIdentity_csr.toarray())\n",
    "print(\"Hadamard: \\n\", basicHadamard_csr.toarray())\n",
    "print(\"CNOT: \\n\", basicCNOT_csr.toarray())\n",
    "print(\"CNOT Flip: \\n\", basicCNOTflip_csr.toarray())\n"
   ]
  },
  {
   "cell_type": "code",
   "execution_count": 131,
   "metadata": {},
   "outputs": [],
   "source": [
    "# Apples Hadamart to wire i out of k wire\n",
    "def HadamardArray_csr(i, k):\n",
    "    myMatrix = scipy.sparse.csr_matrix([1])\n",
    "    for x in range(k):\n",
    "        # If on wire 'i', apply Hadamard, else apply Identity\n",
    "        if(x == i):\n",
    "            myMatrix = scipy.sparse.kron(basicHadamard_csr, myMatrix, format='csr')\n",
    "        else:\n",
    "            myMatrix = scipy.sparse.kron(basicIdentity_csr, myMatrix, format='csr')\n",
    "\n",
    "    return myMatrix\n",
    "\n",
    "def PhaseArray_csr(i, k, phi):\n",
    "    myMatrix = scipy.sparse.csr_matrix([1])\n",
    "    basicPhase_csr = scipy.sparse.csr_matrix([[1, 0],[0, np.exp(complex(0,phi))]])\n",
    "    for x in range(k):\n",
    "        # If on wire 'i', apply Phase Gate, else apply Identity\n",
    "        if(x == (i)):\n",
    "            myMatrix = scipy.sparse.kron(basicPhase_csr, myMatrix, format='csr')\n",
    "        else:\n",
    "            myMatrix = scipy.sparse.kron(basicIdentity_csr, myMatrix, format='csr')\n",
    "    return myMatrix\n",
    "\n",
    "def CNOTArray_csr(controlWire, otherWire, totalWire):\n",
    "    myMatrix = scipy.sparse.csr_matrix([1])\n",
    "    x = 0\n",
    "    while(x < totalWire):\n",
    "        # If on wire 'i', apply Hadamard, else apply Identity\n",
    "        if(x == controlWire):\n",
    "            myMatrix = scipy.sparse.kron(basicCNOT_csr, myMatrix, format='csr')\n",
    "            x += 1\n",
    "        elif(x == otherWire): \n",
    "            myMatrix = scipy.sparse.kron(basicCNOTflip_csr, myMatrix, format='csr')\n",
    "            x += 1\n",
    "        else:\n",
    "            myMatrix = scipy.sparse.kron(basicIdentity_csr, myMatrix, format='csr')\n",
    "        x += 1\n",
    "    #print(myMatrix)\n",
    "    return myMatrix\n"
   ]
  },
  {
   "cell_type": "code",
   "execution_count": 132,
   "metadata": {},
   "outputs": [],
   "source": [
    "def quantumCircuit1c(fileName):\n",
    "    numberOfWires, myInput=ReadInput(fileName)\n",
    "    \n",
    "    # Generate circuit input\n",
    "    if(myInput[0][0] == \"INITSTATE\"):\n",
    "        inputState = readInitialState(myInput[0][2])\n",
    "        ind_0 = 1\n",
    "    else:\n",
    "        # basis\n",
    "        inputState = np.zeros(2**numberOfWires, dtype = \"complex128\")\n",
    "        inputState[0] = 1\n",
    "        inputState = scipy.sparse.csr_matrix(inputState)\n",
    "        ind_0 = 0        \n",
    "\n",
    "    # Apply gates to input state\n",
    "    U = scipy.sparse.csr_matrix(inputState)\n",
    "    for i in range(ind_0, len(myInput)):\n",
    "        gate = myInput[i][0]\n",
    "        if(gate == 'H'):\n",
    "            wire = int(myInput[i][1])\n",
    "            U = U @ HadamardArray_csr(wire, numberOfWires)\n",
    "        elif(gate == 'P'):\n",
    "            wire = int(myInput[i][1])\n",
    "            phase = float(myInput[i][2])\n",
    "            U = U @ PhaseArray_csr(wire, numberOfWires, phase)\n",
    "        elif(gate == 'CNOT'):\n",
    "            cwire = int(myInput[i][1])\n",
    "            wire = int(myInput[i][2])\n",
    "            U = U @ CNOTArray_csr(cwire, wire, numberOfWires)\n",
    "        elif(gate == \"MEASURE\"):\n",
    "            plt.hist(measureVec(U.toarray()))\n",
    "            plt.show()\n",
    "    # return input state into the Unitary matrix\n",
    "    return U.toarray()"
   ]
  },
  {
   "cell_type": "code",
   "execution_count": 133,
   "metadata": {},
   "outputs": [
    {
     "name": "stdout",
     "output_type": "stream",
     "text": [
      "0.9999999999992835\n",
      "(-4.735795089416683e-16+6.938893903907228e-17j)\n",
      "0.9999999999999958\n",
      "(2.0686577451023425e-16-3.5561831257524545e-16j)\n"
     ]
    }
   ],
   "source": [
    "result = quantumCircuit1a(\"input.circuit\")\n",
    "result2 = quantumCircuit1c(\"input.circuit\")\n",
    "print(np.sum(measureVec(result2)))\n",
    "print(np.sum(result - result2))\n",
    "\n",
    "result = quantumCircuit1a(\"rand.circuit\")\n",
    "result2 = quantumCircuit1c(\"rand.circuit\")\n",
    "print(np.sum(measureVec(result2)))\n",
    "print(np.sum(result - result2))\n",
    "\n",
    "# Differences so small they could reasonably be attributed to floating point precision error"
   ]
  },
  {
   "cell_type": "code",
   "execution_count": 171,
   "metadata": {},
   "outputs": [],
   "source": [
    "import time\n",
    "time_ar = np.empty((0,0))\n",
    "time_ar2 = np.empty((0,0))\n",
    "time_ar3 = np.empty((0,0))"
   ]
  },
  {
   "cell_type": "code",
   "execution_count": 182,
   "metadata": {},
   "outputs": [
    {
     "name": "stdout",
     "output_type": "stream",
     "text": [
      "15.584308624267578\n"
     ]
    }
   ],
   "source": [
    "# Use this to append differnet qubit lengths\n",
    "# Quantum Simulator I Graphing Time\n",
    "st = time.time()\n",
    "result = quantumCircuit1a(\"time.circuit\")\n",
    "elapsed = time.time() - st\n",
    "print(elapsed)\n",
    "\n",
    "time_ar = np.append(time_ar, elapsed)\n",
    "\n",
    "st = time.time()\n",
    "result = quantumCircuit1b(\"time.circuit\")\n",
    "elapsed = time.time() - st\n",
    "print(elapsed)\n",
    "\n",
    "time_ar2 = np.append(time_ar2, elapsed)\n",
    "\n",
    "st = time.time()\n",
    "result = quantumCircuit1c(\"time.circuit\")\n",
    "elapsed = time.time() - st\n",
    "print(elapsed)\n",
    "\n",
    "time_ar3 = np.append(time_ar3, elapsed)"
   ]
  },
  {
   "cell_type": "code",
   "execution_count": 213,
   "metadata": {},
   "outputs": [
    {
     "data": {
      "image/png": "[encoded data removed]",
      "text/plain": [
       "<Figure size 432x288 with 1 Axes>"
      ]
     },
     "metadata": {
      "needs_background": "light"
     },
     "output_type": "display_data"
    }
   ],
   "source": [
    "x = np.array([5,6,7,8,9,10])\n",
    "plt.plot(x, time_ar, label = \"Simulator1a\")\n",
    "plt.plot(x, time_ar2, label = \"Simulator1b\")\n",
    "plt.plot(x, time_ar3, label = \"Simulator1c\")\n",
    "plt.title(\"Time vs. Qubits\")\n",
    "plt.xlabel(\"Qubits\")\n",
    "plt.ylabel(\"Time (Seconds)\")\n",
    "plt.legend()\n",
    "plt.show()"
   ]
  },
  {
   "cell_type": "code",
   "execution_count": 216,
   "metadata": {},
   "outputs": [],
   "source": [
    "import psutil"
   ]
  },
  {
   "cell_type": "code",
   "execution_count": 217,
   "metadata": {},
   "outputs": [
    {
     "name": "stdout",
     "output_type": "stream",
     "text": [
      "svmem(total=8496750592, available=2503852032, percent=70.5, used=5992898560, free=2503852032)\n"
     ]
    }
   ],
   "source": [
    "print(psutil.virtual_memory())"
   ]
  },
  {
   "cell_type": "code",
   "execution_count": 237,
   "metadata": {},
   "outputs": [],
   "source": [
    "ram_ar = np.array([29.1,28,32,38,47,90])\n",
    "ram_ar2 = np.array([12.8,19.2,30,33,37,57])\n",
    "ram_ar3 = np.array([8,7.9,17,15,20,18])"
   ]
  },
  {
   "cell_type": "code",
   "execution_count": 238,
   "metadata": {},
   "outputs": [
    {
     "data": {
      "image/png": "[encoded data removed]",
      "text/plain": [
       "<Figure size 432x288 with 1 Axes>"
      ]
     },
     "metadata": {
      "needs_background": "light"
     },
     "output_type": "display_data"
    }
   ],
   "source": [
    "plt.plot(x, ram_ar, label = \"Simulator1a\")\n",
    "plt.plot(x, ram_ar2, label = \"Simulator1b\")\n",
    "plt.plot(x, ram_ar3, label = \"Simulator1c\")\n",
    "plt.title(\"RAM vs. Qubits\")\n",
    "plt.xlabel(\"Qubits\")\n",
    "plt.ylabel(\"RAM (Mb appx.)\")\n",
    "plt.legend()\n",
    "plt.show()"
   ]
  },
  {
   "cell_type": "code",
   "execution_count": 236,
   "metadata": {},
   "outputs": [
    {
     "name": "stdout",
     "output_type": "stream",
     "text": [
      "[-8192.] [0.] [4096.]\n"
     ]
    }
   ],
   "source": [
    "print(ram_ar, ram_ar2, ram_ar3)"
   ]
  },
  {
   "cell_type": "markdown",
   "metadata": {},
   "source": [
    "# Simulator 2"
   ]
  },
  {
   "cell_type": "code",
   "execution_count": null,
   "metadata": {},
   "outputs": [],
   "source": [
    "def Hadamard(inWire,numWires,inputState):\n",
    "    inputVector = StateToVec(inputState)\n",
    "    hadamardAr = HadamardArray(inWire, numWires)\n",
    "    resultVec = hadamardAr @ inputVector\n",
    "    resultState = VecToState(resultVec)\n",
    "    return resultState"
   ]
  },
  {
   "cell_type": "code",
   "execution_count": null,
   "metadata": {},
   "outputs": [],
   "source": []
  },
  {
   "cell_type": "code",
   "execution_count": null,
   "metadata": {},
   "outputs": [],
   "source": []
  },
  {
   "cell_type": "code",
   "execution_count": null,
   "metadata": {},
   "outputs": [],
   "source": []
  },
  {
   "cell_type": "code",
   "execution_count": null,
   "metadata": {},
   "outputs": [],
   "source": []
  },
  {
   "cell_type": "markdown",
   "metadata": {},
   "source": [
    "## Non-Atomic Gates"
   ]
  },
  {
   "cell_type": "code",
   "execution_count": 34,
   "metadata": {},
   "outputs": [
    {
     "name": "stdout",
     "output_type": "stream",
     "text": [
      "[[-2.23711432e-17+6.123234e-17j  1.00000000e+00-6.123234e-17j]\n",
      " [ 1.00000000e+00-6.123234e-17j -2.23711432e-17+6.123234e-17j]]\n"
     ]
    },
    {
     "data": {
      "text/plain": [
       "'( (0.9999999999999998-6.123233995736765e-17j) |0> + (-2.2371143170757382e-17+6.123233995736765e-17j) |1>)'"
      ]
     },
     "execution_count": 34,
     "metadata": {},
     "output_type": "execute_result"
    }
   ],
   "source": [
    "# Not Gate\n",
    "basicPhase = np.array([[1, 0],[0, np.exp(complex(0,np.pi))]])\n",
    "basicNot = basicHadamard @  basicPhase @ basicHadamard\n",
    "print(basicNot)\n",
    "\n",
    "# Basic test for document\n",
    "PrettyPrintInteger(VecToState(basicNot @ np.array([0,1])))"
   ]
  },
  {
   "cell_type": "code",
   "execution_count": 90,
   "metadata": {},
   "outputs": [
    {
     "name": "stdout",
     "output_type": "stream",
     "text": [
      "[[ 8.77582562e-01+4.79425539e-01j -7.13600159e-17+1.04243476e-16j]\n",
      " [-1.26473207e-17+1.25694071e-16j  8.77582562e-01-4.79425539e-01j]]\n"
     ]
    }
   ],
   "source": [
    "# Rz Gate\n",
    "def basicPhase(phi):\n",
    "    return np.array([[1, 0],[0, np.exp(complex(0,phi))]])\n",
    "\n",
    "def Rz(theta):\n",
    "    return basicPhase(-1*theta/2) @ basicNot @ basicPhase(theta/2) @ basicNot\n",
    "\n",
    "#print(basicPhase(1/2))\n",
    "print(Rz(1))\n",
    "#Rz(1)[0,0] + Rz(1)[1,1]"
   ]
  },
  {
   "cell_type": "code",
   "execution_count": 101,
   "metadata": {},
   "outputs": [
    {
     "ename": "ValueError",
     "evalue": "matmul: Input operand 1 does not have enough dimensions (has 0, gufunc core with signature (n?,k),(k,m?)->(n?,m?) requires 1)",
     "output_type": "error",
     "traceback": [
      "\u001b[1;31m---------------------------------------------------------------------------\u001b[0m",
      "\u001b[1;31mValueError\u001b[0m                                Traceback (most recent call last)",
      "\u001b[1;32m<ipython-input-101-c6339c243fac>\u001b[0m in \u001b[0;36m<module>\u001b[1;34m\u001b[0m\n\u001b[0;32m      2\u001b[0m \u001b[0mtheta\u001b[0m \u001b[1;33m=\u001b[0m \u001b[1;36m1\u001b[0m\u001b[1;33m\u001b[0m\u001b[0m\n\u001b[0;32m      3\u001b[0m \u001b[0mU\u001b[0m \u001b[1;33m=\u001b[0m \u001b[0mPhaseArray\u001b[0m\u001b[1;33m(\u001b[0m\u001b[1;36m0\u001b[0m\u001b[1;33m,\u001b[0m\u001b[1;36m2\u001b[0m\u001b[1;33m,\u001b[0m \u001b[1;36m2\u001b[0m\u001b[1;33m*\u001b[0m\u001b[0mpi\u001b[0m\u001b[1;33m)\u001b[0m \u001b[1;33m@\u001b[0m \u001b[0mCNOTArray\u001b[0m\u001b[1;33m(\u001b[0m\u001b[1;36m0\u001b[0m\u001b[1;33m,\u001b[0m\u001b[1;36m1\u001b[0m\u001b[1;33m,\u001b[0m\u001b[1;36m2\u001b[0m\u001b[1;33m)\u001b[0m \u001b[1;33m@\u001b[0m \u001b[0mPhaseArray\u001b[0m\u001b[1;33m(\u001b[0m\u001b[1;36m0\u001b[0m\u001b[1;33m,\u001b[0m\u001b[1;36m2\u001b[0m\u001b[1;33m,\u001b[0m\u001b[1;36m2\u001b[0m\u001b[1;33m*\u001b[0m\u001b[0mpi\u001b[0m\u001b[1;33m)\u001b[0m \u001b[1;33m@\u001b[0m \u001b[0mCNOTArray\u001b[0m\u001b[1;33m(\u001b[0m\u001b[1;36m0\u001b[0m\u001b[1;33m,\u001b[0m\u001b[1;36m1\u001b[0m\u001b[1;33m,\u001b[0m\u001b[1;36m2\u001b[0m\u001b[1;33m)\u001b[0m \u001b[1;31m#@ PhaseArray(0,2,np.pi)\u001b[0m\u001b[1;33m\u001b[0m\u001b[0m\n\u001b[1;32m----> 4\u001b[1;33m \u001b[0mU\u001b[0m \u001b[1;33m=\u001b[0m \u001b[1;33m(\u001b[0m\u001b[0mPhaseArray\u001b[0m\u001b[1;33m(\u001b[0m\u001b[1;36m0\u001b[0m\u001b[1;33m,\u001b[0m \u001b[1;36m2\u001b[0m\u001b[1;33m,\u001b[0m \u001b[1;33m-\u001b[0m\u001b[1;36m1\u001b[0m\u001b[1;33m*\u001b[0m\u001b[0mtheta\u001b[0m\u001b[1;33m/\u001b[0m\u001b[1;36m2\u001b[0m\u001b[1;33m)\u001b[0m\u001b[1;33m)\u001b[0m \u001b[1;33m@\u001b[0m \u001b[1;33m(\u001b[0m\u001b[0mbasicHadamard\u001b[0m \u001b[1;33m@\u001b[0m  \u001b[0mbasicPhase\u001b[0m \u001b[1;33m@\u001b[0m \u001b[0mbasicHadamard\u001b[0m\u001b[1;33m)\u001b[0m \u001b[1;33m@\u001b[0m \u001b[1;33m(\u001b[0m\u001b[0mbasicPhase\u001b[0m\u001b[1;33m(\u001b[0m\u001b[0mtheta\u001b[0m\u001b[1;33m/\u001b[0m\u001b[1;36m2\u001b[0m\u001b[1;33m)\u001b[0m\u001b[1;33m)\u001b[0m \u001b[1;33m@\u001b[0m \u001b[1;33m(\u001b[0m\u001b[0mbasicHadamard\u001b[0m \u001b[1;33m@\u001b[0m  \u001b[0mbasicPhase\u001b[0m \u001b[1;33m@\u001b[0m \u001b[0mbasicHadamard\u001b[0m\u001b[1;33m)\u001b[0m \u001b[1;33m@\u001b[0m \u001b[0mU\u001b[0m\u001b[1;33m\u001b[0m\u001b[0m\n\u001b[0m\u001b[0;32m      5\u001b[0m \u001b[1;33m\u001b[0m\u001b[0m\n\u001b[0;32m      6\u001b[0m \u001b[0mprint\u001b[0m\u001b[1;33m(\u001b[0m\u001b[0mU\u001b[0m\u001b[1;33m)\u001b[0m\u001b[1;33m\u001b[0m\u001b[0m\n",
      "\u001b[1;31mValueError\u001b[0m: matmul: Input operand 1 does not have enough dimensions (has 0, gufunc core with signature (n?,k),(k,m?)->(n?,m?) requires 1)"
     ]
    }
   ],
   "source": [
    "# testing\n",
    "theta = 1\n",
    "U = PhaseArray(0,2, 2*pi) @ CNOTArray(0,1,2) @ PhaseArray(0,2,2*pi) @ CNOTArray(0,1,2) #@ PhaseArray(0,2,np.pi)\n",
    "U = (PhaseArray(0, 2, -1*theta/2)) @ (basicHadamard @  basicPhase @ basicHadamard) @ (basicPhase(theta/2)) @ (basicHadamard @  basicPhase @ basicHadamard) @ U\n",
    "\n",
    "print(U)\n",
    "# Control Rz Gate\n",
    "#def controlRz(theta):\n",
    "    \n",
    "\n",
    "\n"
   ]
  },
  {
   "cell_type": "code",
   "execution_count": 109,
   "metadata": {},
   "outputs": [
    {
     "name": "stdout",
     "output_type": "stream",
     "text": [
      "[[1 0 0 0]\n",
      " [0 0 1 0]\n",
      " [0 1 0 0]\n",
      " [0 0 0 1]]\n"
     ]
    }
   ],
   "source": [
    "# SWAP Gate\n",
    "SWAP = basicCNOT @ basicCNOTflip @ basicCNOT\n",
    "print(SWAP)\n",
    "\n",
    "# SWAP(2,5)\n",
    "swap25 = \n"
   ]
  },
  {
   "cell_type": "code",
   "execution_count": null,
   "metadata": {},
   "outputs": [],
   "source": []
  },
  {
   "cell_type": "code",
   "execution_count": null,
   "metadata": {},
   "outputs": [],
   "source": []
  },
  {
   "cell_type": "code",
   "execution_count": null,
   "metadata": {},
   "outputs": [],
   "source": []
  },
  {
   "cell_type": "code",
   "execution_count": null,
   "metadata": {},
   "outputs": [],
   "source": []
  }
 ],
 "metadata": {
  "kernelspec": {
   "display_name": "Python 3",
   "language": "python",
   "name": "python3"
  },
  "language_info": {
   "codemirror_mode": {
    "name": "ipython",
    "version": 3
   },
   "file_extension": ".py",
   "mimetype": "text/x-python",
   "name": "python",
   "nbconvert_exporter": "python",
   "pygments_lexer": "ipython3",
   "version": "3.7.0"
  }
 },
 "nbformat": 4,
 "nbformat_minor": 4
}
